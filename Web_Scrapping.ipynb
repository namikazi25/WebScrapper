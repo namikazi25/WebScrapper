{
  "nbformat": 4,
  "nbformat_minor": 0,
  "metadata": {
    "colab": {
      "name": "Web Scrapping.ipynb",
      "provenance": [],
      "collapsed_sections": []
    },
    "kernelspec": {
      "name": "python3",
      "display_name": "Python 3"
    }
  },
  "cells": [
    {
      "cell_type": "markdown",
      "metadata": {
        "id": "x6o5oZU-92AD"
      },
      "source": [
        "Load in the necessary libraries"
      ]
    },
    {
      "cell_type": "code",
      "metadata": {
        "id": "CoYSaPNn1aiW"
      },
      "source": [
        "import requests\n",
        "from bs4 import BeautifulSoup as bs"
      ],
      "execution_count": null,
      "outputs": []
    },
    {
      "cell_type": "markdown",
      "metadata": {
        "id": "qIxyGJVb3GlR"
      },
      "source": [
        "Load first page\n"
      ]
    },
    {
      "cell_type": "code",
      "metadata": {
        "id": "Bzekhtel3JXH",
        "outputId": "7617d37e-1cf5-4c6c-86ff-a1b1c88ee120",
        "colab": {
          "base_uri": "https://localhost:8080/",
          "height": 646
        }
      },
      "source": [
        "# Load the webpage content\n",
        "r = requests.get(\"https://keithgalli.github.io/web-scraping/example.html\")\n",
        "\n",
        "#convert to beautiful soup object\n",
        "soup = bs(r.content)\n",
        "\n",
        "#print out html\n",
        "print(soup.prettify())"
      ],
      "execution_count": null,
      "outputs": [
        {
          "output_type": "stream",
          "text": [
            "<html>\n",
            " <head>\n",
            "  <title>\n",
            "   HTML Example\n",
            "  </title>\n",
            " </head>\n",
            " <body>\n",
            "  <div align=\"middle\">\n",
            "   <h1>\n",
            "    HTML Webpage\n",
            "   </h1>\n",
            "   <p>\n",
            "    Link to more interesting example:\n",
            "    <a href=\"https://keithgalli.github.io/web-scraping/webpage.html\">\n",
            "     keithgalli.github.io/web-scraping/webpage.html\n",
            "    </a>\n",
            "   </p>\n",
            "  </div>\n",
            "  <h2>\n",
            "   A Header\n",
            "  </h2>\n",
            "  <p>\n",
            "   <i>\n",
            "    Some italicized text\n",
            "   </i>\n",
            "  </p>\n",
            "  <h2>\n",
            "   Another header\n",
            "  </h2>\n",
            "  <p id=\"paragraph-id\">\n",
            "   <b>\n",
            "    Some bold text\n",
            "   </b>\n",
            "  </p>\n",
            " </body>\n",
            "</html>\n",
            "\n"
          ],
          "name": "stdout"
        }
      ]
    },
    {
      "cell_type": "markdown",
      "metadata": {
        "id": "o9H1V9Sf-VHa"
      },
      "source": [
        "Start scrapping with Soup Library"
      ]
    },
    {
      "cell_type": "markdown",
      "metadata": {
        "id": "5V4T4iQuNkyw"
      },
      "source": [
        "find and find_all"
      ]
    },
    {
      "cell_type": "code",
      "metadata": {
        "id": "2JjJClmR-a7M",
        "outputId": "6fda3671-58ec-4cfb-ed52-4928e3bb167b",
        "colab": {
          "base_uri": "https://localhost:8080/",
          "height": 34
        }
      },
      "source": [
        "first_header = soup.find(\"h2\")\n",
        "header = soup.find_all(\"h2\")\n",
        "header"
      ],
      "execution_count": null,
      "outputs": [
        {
          "output_type": "execute_result",
          "data": {
            "text/plain": [
              "[<h2>A Header</h2>, <h2>Another header</h2>]"
            ]
          },
          "metadata": {
            "tags": []
          },
          "execution_count": 3
        }
      ]
    },
    {
      "cell_type": "code",
      "metadata": {
        "id": "dtl69nDcOy2G",
        "outputId": "c7f49803-b706-48e3-e8b1-7c08b66615c3",
        "colab": {
          "base_uri": "https://localhost:8080/",
          "height": 34
        }
      },
      "source": [
        "#pass in a list of elements to look for\n",
        "first_header = soup.find([\"h1\",\"h2\"])\n",
        "first_header\n",
        "header = soup.find_all([\"h1\",\"h2\"])\n",
        "header"
      ],
      "execution_count": null,
      "outputs": [
        {
          "output_type": "execute_result",
          "data": {
            "text/plain": [
              "[<h1>HTML Webpage</h1>, <h2>A Header</h2>, <h2>Another header</h2>]"
            ]
          },
          "metadata": {
            "tags": []
          },
          "execution_count": 4
        }
      ]
    },
    {
      "cell_type": "code",
      "metadata": {
        "id": "VavEIeFqPyST",
        "outputId": "0cdfb99d-b80e-47e8-c948-d3ff2b4e8642",
        "colab": {
          "base_uri": "https://localhost:8080/",
          "height": 34
        }
      },
      "source": [
        "#You can pass attributes in find/findAll functions\n",
        "paragraph = soup.find_all(\"p\", attrs= {\"id\":\"paragraph-id\"})\n",
        "paragraph"
      ],
      "execution_count": null,
      "outputs": [
        {
          "output_type": "execute_result",
          "data": {
            "text/plain": [
              "[<p id=\"paragraph-id\"><b>Some bold text</b></p>]"
            ]
          },
          "metadata": {
            "tags": []
          },
          "execution_count": 5
        }
      ]
    },
    {
      "cell_type": "code",
      "metadata": {
        "id": "sQ0iOj5wPxdb",
        "outputId": "d2dac068-b70e-4fd7-f54e-e9fbe52c21d5",
        "colab": {
          "base_uri": "https://localhost:8080/",
          "height": 34
        }
      },
      "source": [
        "#you can nest find/find_all calls\n",
        "body = soup.find(\"body\")\n",
        "div = body.find(\"div\")\n",
        "header = div.find(\"h1\")\n",
        "header"
      ],
      "execution_count": null,
      "outputs": [
        {
          "output_type": "execute_result",
          "data": {
            "text/plain": [
              "<h1>HTML Webpage</h1>"
            ]
          },
          "metadata": {
            "tags": []
          },
          "execution_count": 6
        }
      ]
    },
    {
      "cell_type": "code",
      "metadata": {
        "id": "kYVPyS2lRloc",
        "outputId": "f744f185-5597-47d5-85a3-4a804ab66a93",
        "colab": {
          "base_uri": "https://localhost:8080/",
          "height": 34
        }
      },
      "source": [
        "#You can search specific skill in find/find_all\n",
        "import re\n",
        "paragraphs = soup.find_all(\"p\",string = re.compile(\"Some\"))\n",
        "paragraphs\n",
        "\n",
        "headers = soup.find_all(\"h2\", string = re.compile(\"(h|H)eader\"))\n",
        "headers"
      ],
      "execution_count": null,
      "outputs": [
        {
          "output_type": "execute_result",
          "data": {
            "text/plain": [
              "[<h2>A Header</h2>, <h2>Another header</h2>]"
            ]
          },
          "metadata": {
            "tags": []
          },
          "execution_count": 7
        }
      ]
    },
    {
      "cell_type": "markdown",
      "metadata": {
        "id": "el9YRCYCZExa"
      },
      "source": [
        "Select (CSS Selector)"
      ]
    },
    {
      "cell_type": "code",
      "metadata": {
        "id": "a4E_goYNaDcG",
        "outputId": "cc70e658-5d80-4407-c6d6-420cde51e07a",
        "colab": {
          "base_uri": "https://localhost:8080/",
          "height": 527
        }
      },
      "source": [
        "print(soup.body.prettify())"
      ],
      "execution_count": null,
      "outputs": [
        {
          "output_type": "stream",
          "text": [
            "<body>\n",
            " <div align=\"middle\">\n",
            "  <h1>\n",
            "   HTML Webpage\n",
            "  </h1>\n",
            "  <p>\n",
            "   Link to more interesting example:\n",
            "   <a href=\"https://keithgalli.github.io/web-scraping/webpage.html\">\n",
            "    keithgalli.github.io/web-scraping/webpage.html\n",
            "   </a>\n",
            "  </p>\n",
            " </div>\n",
            " <h2>\n",
            "  A Header\n",
            " </h2>\n",
            " <p>\n",
            "  <i>\n",
            "   Some italicized text\n",
            "  </i>\n",
            " </p>\n",
            " <h2>\n",
            "  Another header\n",
            " </h2>\n",
            " <p id=\"paragraph-id\">\n",
            "  <b>\n",
            "   Some bold text\n",
            "  </b>\n",
            " </p>\n",
            "</body>\n",
            "\n"
          ],
          "name": "stdout"
        }
      ]
    },
    {
      "cell_type": "code",
      "metadata": {
        "id": "swyjcnIYY5nS",
        "outputId": "69f3efe5-a9d3-4a41-9bd9-a91810c2407c",
        "colab": {
          "base_uri": "https://localhost:8080/",
          "height": 34
        }
      },
      "source": [
        "content = soup.select(\"div p\")\n",
        "content"
      ],
      "execution_count": null,
      "outputs": [
        {
          "output_type": "execute_result",
          "data": {
            "text/plain": [
              "[<p>Link to more interesting example: <a href=\"https://keithgalli.github.io/web-scraping/webpage.html\">keithgalli.github.io/web-scraping/webpage.html</a></p>]"
            ]
          },
          "metadata": {
            "tags": []
          },
          "execution_count": 9
        }
      ]
    },
    {
      "cell_type": "code",
      "metadata": {
        "id": "f797SjyOaiQd",
        "outputId": "efe23610-9213-4448-9e0a-1f397fa38ab3",
        "colab": {
          "base_uri": "https://localhost:8080/",
          "height": 51
        }
      },
      "source": [
        "paragraphs = soup.select(\"h2 ~ p\")\n",
        "paragraphs"
      ],
      "execution_count": null,
      "outputs": [
        {
          "output_type": "execute_result",
          "data": {
            "text/plain": [
              "[<p><i>Some italicized text</i></p>,\n",
              " <p id=\"paragraph-id\"><b>Some bold text</b></p>]"
            ]
          },
          "metadata": {
            "tags": []
          },
          "execution_count": 10
        }
      ]
    },
    {
      "cell_type": "code",
      "metadata": {
        "id": "mTMnmzUrak_S",
        "outputId": "ed254fcb-c7b4-4e16-da83-fa9218337cb8",
        "colab": {
          "base_uri": "https://localhost:8080/",
          "height": 34
        }
      },
      "source": [
        "bold_text = soup.select(\"p#paragraph-id b\")\n",
        "bold_text"
      ],
      "execution_count": null,
      "outputs": [
        {
          "output_type": "execute_result",
          "data": {
            "text/plain": [
              "[<b>Some bold text</b>]"
            ]
          },
          "metadata": {
            "tags": []
          },
          "execution_count": 11
        }
      ]
    },
    {
      "cell_type": "code",
      "metadata": {
        "id": "C4U6ayNlSqOl",
        "outputId": "0ad53663-3b06-473e-cf86-2ee025188858",
        "colab": {
          "base_uri": "https://localhost:8080/",
          "height": 68
        }
      },
      "source": [
        "paragraphs = soup.select(\"body > p\")\n",
        "print(paragraphs)\n",
        "\n",
        "for paragraph in paragraphs:\n",
        "  print(paragraph.select('i'))"
      ],
      "execution_count": null,
      "outputs": [
        {
          "output_type": "stream",
          "text": [
            "[<p><i>Some italicized text</i></p>, <p id=\"paragraph-id\"><b>Some bold text</b></p>]\n",
            "[<i>Some italicized text</i>]\n",
            "[]\n"
          ],
          "name": "stdout"
        }
      ]
    },
    {
      "cell_type": "code",
      "metadata": {
        "id": "HKXwWjhiTi-C",
        "outputId": "cdbd3bb9-0d91-459c-ccb7-2fc080bad118",
        "colab": {
          "base_uri": "https://localhost:8080/",
          "height": 85
        }
      },
      "source": [
        "# Grab different elements with specific property\n",
        "\n",
        "soup.select(\"[align=middle]\")"
      ],
      "execution_count": null,
      "outputs": [
        {
          "output_type": "execute_result",
          "data": {
            "text/plain": [
              "[<div align=\"middle\">\n",
              " <h1>HTML Webpage</h1>\n",
              " <p>Link to more interesting example: <a href=\"https://keithgalli.github.io/web-scraping/webpage.html\">keithgalli.github.io/web-scraping/webpage.html</a></p>\n",
              " </div>]"
            ]
          },
          "metadata": {
            "tags": []
          },
          "execution_count": 15
        }
      ]
    },
    {
      "cell_type": "markdown",
      "metadata": {
        "id": "xxWS3Qw3V6kE"
      },
      "source": [
        "## Get different properties of HTML"
      ]
    },
    {
      "cell_type": "code",
      "metadata": {
        "id": "FAelq0A0UCub",
        "outputId": "31d41107-a37e-4282-a9f3-3c4ff91b88f1",
        "colab": {
          "base_uri": "https://localhost:8080/",
          "height": 85
        }
      },
      "source": [
        "header = soup.find(\"h2\")\n",
        "header.string\n",
        "\n",
        "#if multiple child use get_text\n",
        "div = soup.find(\"div\")\n",
        "print(div.get_text())"
      ],
      "execution_count": 18,
      "outputs": [
        {
          "output_type": "stream",
          "text": [
            "\n",
            "HTML Webpage\n",
            "Link to more interesting example: keithgalli.github.io/web-scraping/webpage.html\n",
            "\n"
          ],
          "name": "stdout"
        }
      ]
    },
    {
      "cell_type": "code",
      "metadata": {
        "id": "_8StiLlZeMdt",
        "outputId": "38381ecb-c2ee-4102-dcec-8d5076146209",
        "colab": {
          "base_uri": "https://localhost:8080/",
          "height": 35
        }
      },
      "source": [
        "# Get a specific property from an element\n",
        "link = soup.find(\"a\")\n",
        "link['href']\n",
        "\n",
        "paragraphs = soup.select(\"p#paragraph-id\")\n",
        "paragraphs[0]['id']"
      ],
      "execution_count": 23,
      "outputs": [
        {
          "output_type": "execute_result",
          "data": {
            "application/vnd.google.colaboratory.intrinsic+json": {
              "type": "string"
            },
            "text/plain": [
              "'paragraph-id'"
            ]
          },
          "metadata": {
            "tags": []
          },
          "execution_count": 23
        }
      ]
    },
    {
      "cell_type": "code",
      "metadata": {
        "id": "k8gSPITcmhpw",
        "outputId": "bdaaabe4-e813-4664-d389-5d9fae40f3da",
        "colab": {
          "base_uri": "https://localhost:8080/",
          "height": 35
        }
      },
      "source": [
        "# Path Syntax\n",
        "soup.body.div.h1.string"
      ],
      "execution_count": 24,
      "outputs": [
        {
          "output_type": "execute_result",
          "data": {
            "application/vnd.google.colaboratory.intrinsic+json": {
              "type": "string"
            },
            "text/plain": [
              "'HTML Webpage'"
            ]
          },
          "metadata": {
            "tags": []
          },
          "execution_count": 24
        }
      ]
    },
    {
      "cell_type": "code",
      "metadata": {
        "id": "NncfJSpWmveC",
        "outputId": "0bb93f6c-dfa5-45be-c409-9601f8ca6ab3",
        "colab": {
          "base_uri": "https://localhost:8080/",
          "height": 85
        }
      },
      "source": [
        "# Know the parent, siblings, child\n",
        "soup.body.find(\"div\").find_next_siblings()"
      ],
      "execution_count": 26,
      "outputs": [
        {
          "output_type": "execute_result",
          "data": {
            "text/plain": [
              "[<h2>A Header</h2>,\n",
              " <p><i>Some italicized text</i></p>,\n",
              " <h2>Another header</h2>,\n",
              " <p id=\"paragraph-id\"><b>Some bold text</b></p>]"
            ]
          },
          "metadata": {
            "tags": []
          },
          "execution_count": 26
        }
      ]
    },
    {
      "cell_type": "markdown",
      "metadata": {
        "id": "q0C2xucOoFiA"
      },
      "source": [
        "#### Exercises!\n",
        "\n",
        "Go to https://keithgalli.github.io/web-scraping/webpage.html"
      ]
    },
    {
      "cell_type": "code",
      "metadata": {
        "id": "Saeqlv0ZoS_B"
      },
      "source": [
        "# Load the webpage content\n",
        "r = requests.get(\"https://keithgalli.github.io/web-scraping/webpage.html\")\n",
        "\n",
        "#convert to beautiful soup object\n",
        "webpage = bs(r.content)\n",
        "\n",
        "#print out html\n",
        "print(webpage.prettify())"
      ],
      "execution_count": null,
      "outputs": []
    },
    {
      "cell_type": "markdown",
      "metadata": {
        "id": "YPwmhuENqR9I"
      },
      "source": [
        "## Grab all of the social links from webpage\n",
        "\n",
        "Do this in at least 3 different ways"
      ]
    },
    {
      "cell_type": "code",
      "metadata": {
        "id": "_LAU4tnfoUKy",
        "outputId": "cafc1259-c575-4b2a-a091-1cbba383af1b",
        "colab": {
          "base_uri": "https://localhost:8080/",
          "height": 85
        }
      },
      "source": [
        "# Way 1\n",
        "socials = webpage.find_all(\"ul\", {\"class\":\"socials\"})\n",
        "links=social.find_all(\"a\")\n",
        "actual_links = [link['href'] for link in links]\n",
        "actual_links"
      ],
      "execution_count": 105,
      "outputs": [
        {
          "output_type": "execute_result",
          "data": {
            "text/plain": [
              "['https://www.instagram.com/keithgalli/',\n",
              " 'https://twitter.com/keithgalli',\n",
              " 'https://www.linkedin.com/in/keithgalli/',\n",
              " 'https://www.tiktok.com/@keithgalli']"
            ]
          },
          "metadata": {
            "tags": []
          },
          "execution_count": 105
        }
      ]
    },
    {
      "cell_type": "code",
      "metadata": {
        "id": "rcj7cBYYqHWw",
        "outputId": "e2acd629-390f-4ae5-8703-eed14a0d5a25",
        "colab": {
          "base_uri": "https://localhost:8080/",
          "height": 85
        }
      },
      "source": [
        "#Way 2\n",
        "links =  webpage.select(\"ul.socials a\")\n",
        "actual_links = [link['href'] for link in links]\n",
        "actual_links"
      ],
      "execution_count": 106,
      "outputs": [
        {
          "output_type": "execute_result",
          "data": {
            "text/plain": [
              "['https://www.instagram.com/keithgalli/',\n",
              " 'https://twitter.com/keithgalli',\n",
              " 'https://www.linkedin.com/in/keithgalli/',\n",
              " 'https://www.tiktok.com/@keithgalli']"
            ]
          },
          "metadata": {
            "tags": []
          },
          "execution_count": 106
        }
      ]
    },
    {
      "cell_type": "code",
      "metadata": {
        "id": "z8M_OsDxqHGV",
        "outputId": "905f2f86-f7eb-4b13-ca8f-b793e8a7fc1f",
        "colab": {
          "base_uri": "https://localhost:8080/",
          "height": 85
        }
      },
      "source": [
        "# Way 3\n",
        "links = webpage.select(\"li.social a\")\n",
        "actual_links = [link['href'] for link in links]\n",
        "actual_links"
      ],
      "execution_count": 110,
      "outputs": [
        {
          "output_type": "execute_result",
          "data": {
            "text/plain": [
              "['https://www.instagram.com/keithgalli/',\n",
              " 'https://twitter.com/keithgalli',\n",
              " 'https://www.linkedin.com/in/keithgalli/',\n",
              " 'https://www.tiktok.com/@keithgalli']"
            ]
          },
          "metadata": {
            "tags": []
          },
          "execution_count": 110
        }
      ]
    },
    {
      "cell_type": "markdown",
      "metadata": {
        "id": "BJ40oDEM2CLd"
      },
      "source": [
        "###Scraping Table from website"
      ]
    },
    {
      "cell_type": "code",
      "metadata": {
        "id": "udiVrJu-3Nn8"
      },
      "source": [
        "l = []\n",
        "for tr in table_rows:\n",
        "    td = tr.find_all('td')\n",
        "    row = [tr.text for tr in td]\n",
        "    l.append(row)\n",
        "pd.DataFrame(l, columns=[\"A\", \"B\", ...]"
      ],
      "execution_count": null,
      "outputs": []
    },
    {
      "cell_type": "code",
      "metadata": {
        "id": "l94FtWny2JOZ",
        "outputId": "d1d4a5f0-3b91-49f9-f2aa-564e721fbfed",
        "colab": {
          "base_uri": "https://localhost:8080/",
          "height": 173
        }
      },
      "source": [
        "import pandas as pd\n",
        "\n",
        "table = webpage.select(\"table.hockey-stats\")[0]\n",
        "#table_rows = table.find_all('tr')\n",
        "columns = table.find(\"thead\").find_all(\"th\")\n",
        "column_names = [c.string for c in columns]\n",
        "\n",
        "table_rows = table.find(\"tbody\").find_all(\"tr\")\n",
        "l = []\n",
        "for tr in table_rows:\n",
        "    td = tr.find_all('td')\n",
        "    row = [str(tr.get_text()).strip() for tr in td]\n",
        "    l.append(row)\n",
        "\n",
        "df = pd.DataFrame(l, columns=column_names)\n",
        "df.loc[df['Team'] != \"Did not play\"]"
      ],
      "execution_count": 133,
      "outputs": [
        {
          "output_type": "execute_result",
          "data": {
            "text/html": [
              "<div>\n",
              "<style scoped>\n",
              "    .dataframe tbody tr th:only-of-type {\n",
              "        vertical-align: middle;\n",
              "    }\n",
              "\n",
              "    .dataframe tbody tr th {\n",
              "        vertical-align: top;\n",
              "    }\n",
              "\n",
              "    .dataframe thead th {\n",
              "        text-align: right;\n",
              "    }\n",
              "</style>\n",
              "<table border=\"1\" class=\"dataframe\">\n",
              "  <thead>\n",
              "    <tr style=\"text-align: right;\">\n",
              "      <th></th>\n",
              "      <th>S</th>\n",
              "      <th>Team</th>\n",
              "      <th>League</th>\n",
              "      <th>GP</th>\n",
              "      <th>G</th>\n",
              "      <th>A</th>\n",
              "      <th>TP</th>\n",
              "      <th>PIM</th>\n",
              "      <th>+/-</th>\n",
              "      <th></th>\n",
              "      <th>POST</th>\n",
              "      <th>GP</th>\n",
              "      <th>G</th>\n",
              "      <th>A</th>\n",
              "      <th>TP</th>\n",
              "      <th>PIM</th>\n",
              "      <th>+/-</th>\n",
              "    </tr>\n",
              "  </thead>\n",
              "  <tbody>\n",
              "    <tr>\n",
              "      <th>0</th>\n",
              "      <td>2014-15</td>\n",
              "      <td>MIT (Mass. Inst. of Tech.)</td>\n",
              "      <td>ACHA II</td>\n",
              "      <td>17</td>\n",
              "      <td>3</td>\n",
              "      <td>9</td>\n",
              "      <td>12</td>\n",
              "      <td>20</td>\n",
              "      <td></td>\n",
              "      <td>|</td>\n",
              "      <td></td>\n",
              "      <td></td>\n",
              "      <td></td>\n",
              "      <td></td>\n",
              "      <td></td>\n",
              "      <td></td>\n",
              "      <td></td>\n",
              "    </tr>\n",
              "    <tr>\n",
              "      <th>1</th>\n",
              "      <td>2015-16</td>\n",
              "      <td>MIT (Mass. Inst. of Tech.)</td>\n",
              "      <td>ACHA II</td>\n",
              "      <td>9</td>\n",
              "      <td>1</td>\n",
              "      <td>1</td>\n",
              "      <td>2</td>\n",
              "      <td>2</td>\n",
              "      <td></td>\n",
              "      <td>|</td>\n",
              "      <td></td>\n",
              "      <td></td>\n",
              "      <td></td>\n",
              "      <td></td>\n",
              "      <td></td>\n",
              "      <td></td>\n",
              "      <td></td>\n",
              "    </tr>\n",
              "    <tr>\n",
              "      <th>2</th>\n",
              "      <td>2016-17</td>\n",
              "      <td>MIT (Mass. Inst. of Tech.)</td>\n",
              "      <td>ACHA II</td>\n",
              "      <td>12</td>\n",
              "      <td>5</td>\n",
              "      <td>5</td>\n",
              "      <td>10</td>\n",
              "      <td>8</td>\n",
              "      <td>0</td>\n",
              "      <td>|</td>\n",
              "      <td></td>\n",
              "      <td></td>\n",
              "      <td></td>\n",
              "      <td></td>\n",
              "      <td></td>\n",
              "      <td></td>\n",
              "      <td></td>\n",
              "    </tr>\n",
              "    <tr>\n",
              "      <th>4</th>\n",
              "      <td>2018-19</td>\n",
              "      <td>MIT (Mass. Inst. of Tech.)</td>\n",
              "      <td>ACHA III</td>\n",
              "      <td>8</td>\n",
              "      <td>5</td>\n",
              "      <td>10</td>\n",
              "      <td>15</td>\n",
              "      <td>8</td>\n",
              "      <td></td>\n",
              "      <td>|</td>\n",
              "      <td></td>\n",
              "      <td></td>\n",
              "      <td></td>\n",
              "      <td></td>\n",
              "      <td></td>\n",
              "      <td></td>\n",
              "      <td></td>\n",
              "    </tr>\n",
              "  </tbody>\n",
              "</table>\n",
              "</div>"
            ],
            "text/plain": [
              "         S                        Team    League  GP  G   A  ... GP G A TP PIM +/-\n",
              "0  2014-15  MIT (Mass. Inst. of Tech.)   ACHA II  17  3   9  ...                  \n",
              "1  2015-16  MIT (Mass. Inst. of Tech.)   ACHA II   9  1   1  ...                  \n",
              "2  2016-17  MIT (Mass. Inst. of Tech.)   ACHA II  12  5   5  ...                  \n",
              "4  2018-19  MIT (Mass. Inst. of Tech.)  ACHA III   8  5  10  ...                  \n",
              "\n",
              "[4 rows x 17 columns]"
            ]
          },
          "metadata": {
            "tags": []
          },
          "execution_count": 133
        }
      ]
    },
    {
      "cell_type": "markdown",
      "metadata": {
        "id": "82g032zzCMqa"
      },
      "source": [
        "##Grab the fun facts that has the word \"is\" in it"
      ]
    },
    {
      "cell_type": "code",
      "metadata": {
        "id": "O5UVh7RKCL1q",
        "outputId": "8e63fb34-1920-4211-a908-4e7062351c6a",
        "colab": {
          "base_uri": "https://localhost:8080/",
          "height": 102
        }
      },
      "source": [
        "import re\n",
        "fun_facts = webpage.select(\"ul.fun-facts li\")\n",
        "facts_with_is = [fun_fact.find(string=re.compile(\"is\")) for fun_fact in fun_facts]\n",
        "facts_with_is = [fact.find_parent().get_text() for fact in facts_with_is if fact]\n",
        "facts_with_is"
      ],
      "execution_count": 142,
      "outputs": [
        {
          "output_type": "execute_result",
          "data": {
            "text/plain": [
              "['Middle name is Ronald',\n",
              " 'Dunkin Donuts coffee is better than Starbucks',\n",
              " \"A favorite book series of mine is Ender's Game\",\n",
              " 'Current video game of choice is Rocket League',\n",
              " \"The band that I've seen the most times live is the Zac Brown Band\"]"
            ]
          },
          "metadata": {
            "tags": []
          },
          "execution_count": 142
        }
      ]
    },
    {
      "cell_type": "markdown",
      "metadata": {
        "id": "951j_gjREZNI"
      },
      "source": [
        "# Use Beautiful Soup to download image from a website"
      ]
    },
    {
      "cell_type": "code",
      "metadata": {
        "id": "lA9R9GXSPLgq"
      },
      "source": [
        "#Use this code in a local IDE to work\n",
        "import requests\n",
        "from bs4 import BeautifulSoup as bs\n",
        "\n",
        "# Load the webpage content\n",
        "url = \"https://keithgalli.github.io/web-scraping/\"\n",
        "r = requests.get(url+\"webpage.html\")\n",
        "\n",
        "#convert to beautiful soup object\n",
        "webpage = bs(r.content)\n",
        "\n",
        "images = webpage.select(\"div.row div.column img\")\n",
        "image_url = images[0]['src']\n",
        "full_url = url + image_url\n",
        "\n",
        "import urllib.request\n",
        "#urllib.request.urlretrieve(full_url, \"lake_como.jpg\")"
      ],
      "execution_count": 182,
      "outputs": []
    },
    {
      "cell_type": "markdown",
      "metadata": {
        "id": "M4w-rAeWPGq0"
      },
      "source": [
        "# Secret Message Exercise"
      ]
    },
    {
      "cell_type": "code",
      "metadata": {
        "id": "K2soJ6j4Eg5q",
        "outputId": "0b6ecb30-716e-485f-931c-327a142b0c0b",
        "colab": {
          "base_uri": "https://localhost:8080/",
          "height": 187
        }
      },
      "source": [
        "url = \"https://keithgalli.github.io/web-scraping/\"\n",
        "secrets = webpage.select(\"div.block li a\")\n",
        "secrets[0][\"href\"]\n",
        "\n",
        "for x in range(0,10):\n",
        "  r = requests.get(url+secrets[x][\"href\"])\n",
        "  sec = bs(r.content)\n",
        "  b = sec.find(\"p\", attrs = {\"id\":\"secret-word\"})\n",
        "  secret_word = b.string \n",
        "  print(secret_word) "
      ],
      "execution_count": 181,
      "outputs": [
        {
          "output_type": "stream",
          "text": [
            "Make\n",
            "sure\n",
            "to\n",
            "smash\n",
            "that\n",
            "like\n",
            "button\n",
            "and\n",
            "subscribe\n",
            "!!!\n"
          ],
          "name": "stdout"
        }
      ]
    }
  ]
}